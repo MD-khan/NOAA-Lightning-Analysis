{
 "cells": [
  {
   "cell_type": "markdown",
   "metadata": {},
   "source": [
    "# Overview\n",
    "In this notebook, we will examine lightning strike data collected by the National Oceanic and Atmospheric Association (NOAA) for the year of 2018. To complete this notebook, we will:\n",
    "\n",
    "Find the locations with the greatest number of strikes within a single day\n",
    "Examine the locations that had the greatest number of days with at least one lightning strike\n",
    "Determine whether certain days of the week had more lightning strikes than others\n",
    "Add data from 2016 and 2017 and, for each month, calculate the percentage of total lightning strikes for that year that occurred in that month\n",
    "Plot this data on a bar graph"
   ]
  },
  {
   "cell_type": "code",
   "execution_count": 1,
   "metadata": {},
   "outputs": [],
   "source": [
    "# Import statements\n",
    "import pandas as pd\n",
    "import numpy as np\n",
    "import seaborn as sns\n",
    "import datetime\n",
    "from matplotlib import pyplot as plt"
   ]
  },
  {
   "cell_type": "code",
   "execution_count": 2,
   "metadata": {},
   "outputs": [
    {
     "data": {
      "text/html": [
       "<div>\n",
       "<style scoped>\n",
       "    .dataframe tbody tr th:only-of-type {\n",
       "        vertical-align: middle;\n",
       "    }\n",
       "\n",
       "    .dataframe tbody tr th {\n",
       "        vertical-align: top;\n",
       "    }\n",
       "\n",
       "    .dataframe thead th {\n",
       "        text-align: right;\n",
       "    }\n",
       "</style>\n",
       "<table border=\"1\" class=\"dataframe\">\n",
       "  <thead>\n",
       "    <tr style=\"text-align: right;\">\n",
       "      <th></th>\n",
       "      <th>date</th>\n",
       "      <th>number_of_strikes</th>\n",
       "      <th>x_coord</th>\n",
       "      <th>y_coord</th>\n",
       "    </tr>\n",
       "  </thead>\n",
       "  <tbody>\n",
       "    <tr>\n",
       "      <th>0</th>\n",
       "      <td>2012-09-15</td>\n",
       "      <td>2</td>\n",
       "      <td>-68.8</td>\n",
       "      <td>49.5</td>\n",
       "    </tr>\n",
       "    <tr>\n",
       "      <th>1</th>\n",
       "      <td>2012-09-15</td>\n",
       "      <td>2</td>\n",
       "      <td>-85.7</td>\n",
       "      <td>22.8</td>\n",
       "    </tr>\n",
       "    <tr>\n",
       "      <th>2</th>\n",
       "      <td>2012-09-15</td>\n",
       "      <td>2</td>\n",
       "      <td>-95.6</td>\n",
       "      <td>25.8</td>\n",
       "    </tr>\n",
       "    <tr>\n",
       "      <th>3</th>\n",
       "      <td>2012-09-15</td>\n",
       "      <td>2</td>\n",
       "      <td>-79.5</td>\n",
       "      <td>26.0</td>\n",
       "    </tr>\n",
       "    <tr>\n",
       "      <th>4</th>\n",
       "      <td>2012-09-15</td>\n",
       "      <td>2</td>\n",
       "      <td>-88.7</td>\n",
       "      <td>29.1</td>\n",
       "    </tr>\n",
       "  </tbody>\n",
       "</table>\n",
       "</div>"
      ],
      "text/plain": [
       "         date  number_of_strikes  x_coord  y_coord\n",
       "0  2012-09-15                  2    -68.8     49.5\n",
       "1  2012-09-15                  2    -85.7     22.8\n",
       "2  2012-09-15                  2    -95.6     25.8\n",
       "3  2012-09-15                  2    -79.5     26.0\n",
       "4  2012-09-15                  2    -88.7     29.1"
      ]
     },
     "execution_count": 2,
     "metadata": {},
     "output_type": "execute_result"
    }
   ],
   "source": [
    "# Read in the data.\n",
    "file_path = \"../data/raw/NOAA_lightning_strikes_2009_to_2018.csv\"\n",
    "df = pd.read_csv(file_path)\n",
    "df.head()"
   ]
  },
  {
   "cell_type": "code",
   "execution_count": 3,
   "metadata": {},
   "outputs": [],
   "source": [
    "# Convert the `date` column to datetime.\n",
    "df['date'] = pd.to_datetime(df['date']) "
   ]
  },
  {
   "cell_type": "code",
   "execution_count": 4,
   "metadata": {},
   "outputs": [
    {
     "data": {
      "text/plain": [
       "(12875911, 4)"
      ]
     },
     "execution_count": 4,
     "metadata": {},
     "output_type": "execute_result"
    }
   ],
   "source": [
    "df.shape"
   ]
  },
  {
   "cell_type": "code",
   "execution_count": 8,
   "metadata": {},
   "outputs": [],
   "source": [
    "# Create the new column 'center_point_geom' with the specified format\n",
    "df['center_point_geom'] = df.apply(lambda row: f\"POINT({row['x_coord']} {row['y_coord']})\", axis=1)\n",
    "\n",
    "# Drop the 'x_coord' and 'y_coord' columns, as they're now part of 'center_point_geom'\n",
    "df = df.drop(columns=['x_coord', 'y_coord'])"
   ]
  },
  {
   "cell_type": "code",
   "execution_count": 9,
   "metadata": {},
   "outputs": [
    {
     "name": "stdout",
     "output_type": "stream",
     "text": [
      "Processed data saved to ../data/processed/NOAA_lightning_strikes_2009_to_2018.csv\n"
     ]
    }
   ],
   "source": [
    "# Save the processed data to the specified path\n",
    "processed_file_path = \"../data/processed/NOAA_lightning_strikes_2009_to_2018.csv\"\n",
    "df.to_csv(processed_file_path, index=False)\n",
    "\n",
    "print(f\"Processed data saved to {processed_file_path}\")"
   ]
  },
  {
   "cell_type": "markdown",
   "metadata": {},
   "source": [
    "## Locations with most strikes in a single day\n",
    "To identify the locations with the most strikes in a single day, we will sort the number_of_strikes column in descending value, or by most to least strikes."
   ]
  },
  {
   "cell_type": "code",
   "execution_count": 10,
   "metadata": {},
   "outputs": [
    {
     "data": {
      "text/plain": [
       "center_point_geom\n",
       "POINT(-82.2 22.9)                                414\n",
       "POINT(-82.4 22.9)                                408\n",
       "POINT(-82.3 22.9)                                408\n",
       "POINT(-82.1 22.9)                                401\n",
       "POINT(-84.1 22.399999999999995)                  400\n",
       "                                                ... \n",
       "POINT(-120.9 31.6)                                 1\n",
       "POINT(-120.40000000000002 31.200000000000006)      1\n",
       "POINT(-123.1 32.5)                                 1\n",
       "POINT(-121.4 31.699999999999992)                   1\n",
       "POINT(-122.7 30.300000000000004)                   1\n",
       "Name: count, Length: 187690, dtype: int64"
      ]
     },
     "execution_count": 10,
     "metadata": {},
     "output_type": "execute_result"
    }
   ],
   "source": [
    "# Sort by number of strikes in descending order.\n",
    "df.center_point_geom.value_counts()"
   ]
  },
  {
   "cell_type": "markdown",
   "metadata": {},
   "source": [
    "# Locations with most days with at least one lightning strike\n",
    "\n",
    "To find the number of days that a given geographic location had at least one lightning strike, we will use the value_counts() function on the center_point_geom column. The logic is that if each row represents a location-day, then counting the number of times each location occurs in the data will give you the number of days that location had lightning."
   ]
  },
  {
   "cell_type": "code",
   "execution_count": 7,
   "metadata": {},
   "outputs": [
    {
     "data": {
      "text/plain": [
       "x_coord\n",
       "-81.6     39695\n",
       "-81.7     39525\n",
       "-81.8     39488\n",
       "-81.5     39067\n",
       "-81.9     38847\n",
       "          ...  \n",
       "-141.8        1\n",
       "-140.3        1\n",
       "-45.0         1\n",
       "-140.2        1\n",
       "-45.6         1\n",
       "Name: count, Length: 1056, dtype: int64"
      ]
     },
     "execution_count": 7,
     "metadata": {},
     "output_type": "execute_result"
    }
   ],
   "source": [
    "# Identify the locations  that appear most in the dataset\n",
    "df['x_coord'].value_counts()"
   ]
  },
  {
   "cell_type": "markdown",
   "metadata": {},
   "source": [
    "Now we will examine whether there is an even distribution of values, or whether 108 strikes is an unusually high number of days with lightning strikes. We will use the `value_counts()` function again, but this time we will output the top 20 results. We will also rename the columns and apply a color gradient."
   ]
  },
  {
   "cell_type": "code",
   "execution_count": 11,
   "metadata": {},
   "outputs": [
    {
     "data": {
      "text/html": [
       "<style type=\"text/css\">\n",
       "#T_010fb_row0_col1 {\n",
       "  background-color: #023858;\n",
       "  color: #f1f1f1;\n",
       "}\n",
       "#T_010fb_row1_col1, #T_010fb_row2_col1 {\n",
       "  background-color: #045d92;\n",
       "  color: #f1f1f1;\n",
       "}\n",
       "#T_010fb_row3_col1 {\n",
       "  background-color: #1c7fb8;\n",
       "  color: #f1f1f1;\n",
       "}\n",
       "#T_010fb_row4_col1 {\n",
       "  background-color: #2685bb;\n",
       "  color: #f1f1f1;\n",
       "}\n",
       "#T_010fb_row5_col1 {\n",
       "  background-color: #2f8bbe;\n",
       "  color: #f1f1f1;\n",
       "}\n",
       "#T_010fb_row6_col1 {\n",
       "  background-color: #91b5d6;\n",
       "  color: #000000;\n",
       "}\n",
       "#T_010fb_row7_col1 {\n",
       "  background-color: #9ab8d8;\n",
       "  color: #000000;\n",
       "}\n",
       "#T_010fb_row8_col1 {\n",
       "  background-color: #bcc7e1;\n",
       "  color: #000000;\n",
       "}\n",
       "#T_010fb_row9_col1 {\n",
       "  background-color: #d3d4e7;\n",
       "  color: #000000;\n",
       "}\n",
       "#T_010fb_row10_col1 {\n",
       "  background-color: #e8e4f0;\n",
       "  color: #000000;\n",
       "}\n",
       "#T_010fb_row11_col1, #T_010fb_row12_col1 {\n",
       "  background-color: #ede8f3;\n",
       "  color: #000000;\n",
       "}\n",
       "#T_010fb_row13_col1 {\n",
       "  background-color: #f4eef6;\n",
       "  color: #000000;\n",
       "}\n",
       "#T_010fb_row14_col1, #T_010fb_row15_col1 {\n",
       "  background-color: #f8f1f8;\n",
       "  color: #000000;\n",
       "}\n",
       "#T_010fb_row16_col1, #T_010fb_row17_col1 {\n",
       "  background-color: #fbf4f9;\n",
       "  color: #000000;\n",
       "}\n",
       "#T_010fb_row18_col1, #T_010fb_row19_col1 {\n",
       "  background-color: #fff7fb;\n",
       "  color: #000000;\n",
       "}\n",
       "</style>\n",
       "<table id=\"T_010fb\">\n",
       "  <thead>\n",
       "    <tr>\n",
       "      <th class=\"blank level0\" >&nbsp;</th>\n",
       "      <th id=\"T_010fb_level0_col0\" class=\"col_heading level0 col0\" >unique_values</th>\n",
       "      <th id=\"T_010fb_level0_col1\" class=\"col_heading level0 col1\" >counts</th>\n",
       "    </tr>\n",
       "  </thead>\n",
       "  <tbody>\n",
       "    <tr>\n",
       "      <th id=\"T_010fb_level0_row0\" class=\"row_heading level0 row0\" >0</th>\n",
       "      <td id=\"T_010fb_row0_col0\" class=\"data row0 col0\" >POINT(-82.2 22.9)</td>\n",
       "      <td id=\"T_010fb_row0_col1\" class=\"data row0 col1\" >414</td>\n",
       "    </tr>\n",
       "    <tr>\n",
       "      <th id=\"T_010fb_level0_row1\" class=\"row_heading level0 row1\" >1</th>\n",
       "      <td id=\"T_010fb_row1_col0\" class=\"data row1 col0\" >POINT(-82.4 22.9)</td>\n",
       "      <td id=\"T_010fb_row1_col1\" class=\"data row1 col1\" >408</td>\n",
       "    </tr>\n",
       "    <tr>\n",
       "      <th id=\"T_010fb_level0_row2\" class=\"row_heading level0 row2\" >2</th>\n",
       "      <td id=\"T_010fb_row2_col0\" class=\"data row2 col0\" >POINT(-82.3 22.9)</td>\n",
       "      <td id=\"T_010fb_row2_col1\" class=\"data row2 col1\" >408</td>\n",
       "    </tr>\n",
       "    <tr>\n",
       "      <th id=\"T_010fb_level0_row3\" class=\"row_heading level0 row3\" >3</th>\n",
       "      <td id=\"T_010fb_row3_col0\" class=\"data row3 col0\" >POINT(-82.1 22.9)</td>\n",
       "      <td id=\"T_010fb_row3_col1\" class=\"data row3 col1\" >401</td>\n",
       "    </tr>\n",
       "    <tr>\n",
       "      <th id=\"T_010fb_level0_row4\" class=\"row_heading level0 row4\" >4</th>\n",
       "      <td id=\"T_010fb_row4_col0\" class=\"data row4 col0\" >POINT(-84.1 22.399999999999995)</td>\n",
       "      <td id=\"T_010fb_row4_col1\" class=\"data row4 col1\" >400</td>\n",
       "    </tr>\n",
       "    <tr>\n",
       "      <th id=\"T_010fb_level0_row5\" class=\"row_heading level0 row5\" >5</th>\n",
       "      <td id=\"T_010fb_row5_col0\" class=\"data row5 col0\" >POINT(-82.5 22.9)</td>\n",
       "      <td id=\"T_010fb_row5_col1\" class=\"data row5 col1\" >399</td>\n",
       "    </tr>\n",
       "    <tr>\n",
       "      <th id=\"T_010fb_level0_row6\" class=\"row_heading level0 row6\" >6</th>\n",
       "      <td id=\"T_010fb_row6_col0\" class=\"data row6 col0\" >POINT(-84.2 22.3)</td>\n",
       "      <td id=\"T_010fb_row6_col1\" class=\"data row6 col1\" >390</td>\n",
       "    </tr>\n",
       "    <tr>\n",
       "      <th id=\"T_010fb_level0_row7\" class=\"row_heading level0 row7\" >7</th>\n",
       "      <td id=\"T_010fb_row7_col0\" class=\"data row7 col0\" >POINT(-82.60000000000001 22.9)</td>\n",
       "      <td id=\"T_010fb_row7_col1\" class=\"data row7 col1\" >389</td>\n",
       "    </tr>\n",
       "    <tr>\n",
       "      <th id=\"T_010fb_level0_row8\" class=\"row_heading level0 row8\" >8</th>\n",
       "      <td id=\"T_010fb_row8_col0\" class=\"data row8 col0\" >POINT(-82.4 23.000000000000004)</td>\n",
       "      <td id=\"T_010fb_row8_col1\" class=\"data row8 col1\" >385</td>\n",
       "    </tr>\n",
       "    <tr>\n",
       "      <th id=\"T_010fb_level0_row9\" class=\"row_heading level0 row9\" >9</th>\n",
       "      <td id=\"T_010fb_row9_col0\" class=\"data row9 col0\" >POINT(-82.2 22.8)</td>\n",
       "      <td id=\"T_010fb_row9_col1\" class=\"data row9 col1\" >382</td>\n",
       "    </tr>\n",
       "    <tr>\n",
       "      <th id=\"T_010fb_level0_row10\" class=\"row_heading level0 row10\" >10</th>\n",
       "      <td id=\"T_010fb_row10_col0\" class=\"data row10 col0\" >POINT(-82.3 23.0)</td>\n",
       "      <td id=\"T_010fb_row10_col1\" class=\"data row10 col1\" >378</td>\n",
       "    </tr>\n",
       "    <tr>\n",
       "      <th id=\"T_010fb_level0_row11\" class=\"row_heading level0 row11\" >11</th>\n",
       "      <td id=\"T_010fb_row11_col0\" class=\"data row11 col0\" >POINT(-82.2 23.000000000000004)</td>\n",
       "      <td id=\"T_010fb_row11_col1\" class=\"data row11 col1\" >377</td>\n",
       "    </tr>\n",
       "    <tr>\n",
       "      <th id=\"T_010fb_level0_row12\" class=\"row_heading level0 row12\" >12</th>\n",
       "      <td id=\"T_010fb_row12_col0\" class=\"data row12 col0\" >POINT(-84.1 22.500000000000004)</td>\n",
       "      <td id=\"T_010fb_row12_col1\" class=\"data row12 col1\" >377</td>\n",
       "    </tr>\n",
       "    <tr>\n",
       "      <th id=\"T_010fb_level0_row13\" class=\"row_heading level0 row13\" >13</th>\n",
       "      <td id=\"T_010fb_row13_col0\" class=\"data row13 col0\" >POINT(-84.3 22.300000000000004)</td>\n",
       "      <td id=\"T_010fb_row13_col1\" class=\"data row13 col1\" >375</td>\n",
       "    </tr>\n",
       "    <tr>\n",
       "      <th id=\"T_010fb_level0_row14\" class=\"row_heading level0 row14\" >14</th>\n",
       "      <td id=\"T_010fb_row14_col0\" class=\"data row14 col0\" >POINT(-82.1 22.8)</td>\n",
       "      <td id=\"T_010fb_row14_col1\" class=\"data row14 col1\" >374</td>\n",
       "    </tr>\n",
       "    <tr>\n",
       "      <th id=\"T_010fb_level0_row15\" class=\"row_heading level0 row15\" >15</th>\n",
       "      <td id=\"T_010fb_row15_col0\" class=\"data row15 col0\" >POINT(-82.5 23.0)</td>\n",
       "      <td id=\"T_010fb_row15_col1\" class=\"data row15 col1\" >374</td>\n",
       "    </tr>\n",
       "    <tr>\n",
       "      <th id=\"T_010fb_level0_row16\" class=\"row_heading level0 row16\" >16</th>\n",
       "      <td id=\"T_010fb_row16_col0\" class=\"data row16 col0\" >POINT(-84.2 22.4)</td>\n",
       "      <td id=\"T_010fb_row16_col1\" class=\"data row16 col1\" >373</td>\n",
       "    </tr>\n",
       "    <tr>\n",
       "      <th id=\"T_010fb_level0_row17\" class=\"row_heading level0 row17\" >17</th>\n",
       "      <td id=\"T_010fb_row17_col0\" class=\"data row17 col0\" >POINT(-81.6 22.5)</td>\n",
       "      <td id=\"T_010fb_row17_col1\" class=\"data row17 col1\" >373</td>\n",
       "    </tr>\n",
       "    <tr>\n",
       "      <th id=\"T_010fb_level0_row18\" class=\"row_heading level0 row18\" >18</th>\n",
       "      <td id=\"T_010fb_row18_col0\" class=\"data row18 col0\" >POINT(-82.7 22.9)</td>\n",
       "      <td id=\"T_010fb_row18_col1\" class=\"data row18 col1\" >372</td>\n",
       "    </tr>\n",
       "    <tr>\n",
       "      <th id=\"T_010fb_level0_row19\" class=\"row_heading level0 row19\" >19</th>\n",
       "      <td id=\"T_010fb_row19_col0\" class=\"data row19 col0\" >POINT(-83.9 22.500000000000004)</td>\n",
       "      <td id=\"T_010fb_row19_col1\" class=\"data row19 col1\" >372</td>\n",
       "    </tr>\n",
       "  </tbody>\n",
       "</table>\n"
      ],
      "text/plain": [
       "<pandas.io.formats.style.Styler at 0x25c579278c0>"
      ]
     },
     "execution_count": 11,
     "metadata": {},
     "output_type": "execute_result"
    }
   ],
   "source": [
    "# Identify the top 20 locations with most days of lightning.\n",
    "df.center_point_geom.value_counts()[:20].rename_axis('unique_values').reset_index(name='counts').style.background_gradient()"
   ]
  },
  {
   "cell_type": "code",
   "execution_count": 14,
   "metadata": {},
   "outputs": [
    {
     "data": {
      "text/html": [
       "<div>\n",
       "<style scoped>\n",
       "    .dataframe tbody tr th:only-of-type {\n",
       "        vertical-align: middle;\n",
       "    }\n",
       "\n",
       "    .dataframe tbody tr th {\n",
       "        vertical-align: top;\n",
       "    }\n",
       "\n",
       "    .dataframe thead th {\n",
       "        text-align: right;\n",
       "    }\n",
       "</style>\n",
       "<table border=\"1\" class=\"dataframe\">\n",
       "  <thead>\n",
       "    <tr style=\"text-align: right;\">\n",
       "      <th></th>\n",
       "      <th>date</th>\n",
       "      <th>number_of_strikes</th>\n",
       "      <th>center_point_geom</th>\n",
       "      <th>week</th>\n",
       "      <th>weekday</th>\n",
       "    </tr>\n",
       "  </thead>\n",
       "  <tbody>\n",
       "    <tr>\n",
       "      <th>0</th>\n",
       "      <td>2012-09-15</td>\n",
       "      <td>2</td>\n",
       "      <td>POINT(-68.8 49.5)</td>\n",
       "      <td>37</td>\n",
       "      <td>Saturday</td>\n",
       "    </tr>\n",
       "    <tr>\n",
       "      <th>1</th>\n",
       "      <td>2012-09-15</td>\n",
       "      <td>2</td>\n",
       "      <td>POINT(-85.7 22.8)</td>\n",
       "      <td>37</td>\n",
       "      <td>Saturday</td>\n",
       "    </tr>\n",
       "    <tr>\n",
       "      <th>2</th>\n",
       "      <td>2012-09-15</td>\n",
       "      <td>2</td>\n",
       "      <td>POINT(-95.6 25.8)</td>\n",
       "      <td>37</td>\n",
       "      <td>Saturday</td>\n",
       "    </tr>\n",
       "    <tr>\n",
       "      <th>3</th>\n",
       "      <td>2012-09-15</td>\n",
       "      <td>2</td>\n",
       "      <td>POINT(-79.5 26.0)</td>\n",
       "      <td>37</td>\n",
       "      <td>Saturday</td>\n",
       "    </tr>\n",
       "    <tr>\n",
       "      <th>4</th>\n",
       "      <td>2012-09-15</td>\n",
       "      <td>2</td>\n",
       "      <td>POINT(-88.7 29.1)</td>\n",
       "      <td>37</td>\n",
       "      <td>Saturday</td>\n",
       "    </tr>\n",
       "  </tbody>\n",
       "</table>\n",
       "</div>"
      ],
      "text/plain": [
       "        date  number_of_strikes  center_point_geom  week   weekday\n",
       "0 2012-09-15                  2  POINT(-68.8 49.5)    37  Saturday\n",
       "1 2012-09-15                  2  POINT(-85.7 22.8)    37  Saturday\n",
       "2 2012-09-15                  2  POINT(-95.6 25.8)    37  Saturday\n",
       "3 2012-09-15                  2  POINT(-79.5 26.0)    37  Saturday\n",
       "4 2012-09-15                  2  POINT(-88.7 29.1)    37  Saturday"
      ]
     },
     "execution_count": 14,
     "metadata": {},
     "output_type": "execute_result"
    }
   ],
   "source": [
    "# Create two new columns.\n",
    "df['week'] = df.date.dt.isocalendar().week\n",
    "df['weekday'] = df.date.dt.day_name()\n",
    "df.head()"
   ]
  },
  {
   "cell_type": "code",
   "execution_count": 15,
   "metadata": {},
   "outputs": [
    {
     "data": {
      "text/html": [
       "<div>\n",
       "<style scoped>\n",
       "    .dataframe tbody tr th:only-of-type {\n",
       "        vertical-align: middle;\n",
       "    }\n",
       "\n",
       "    .dataframe tbody tr th {\n",
       "        vertical-align: top;\n",
       "    }\n",
       "\n",
       "    .dataframe thead th {\n",
       "        text-align: right;\n",
       "    }\n",
       "</style>\n",
       "<table border=\"1\" class=\"dataframe\">\n",
       "  <thead>\n",
       "    <tr style=\"text-align: right;\">\n",
       "      <th></th>\n",
       "      <th>number_of_strikes</th>\n",
       "    </tr>\n",
       "    <tr>\n",
       "      <th>weekday</th>\n",
       "      <th></th>\n",
       "    </tr>\n",
       "  </thead>\n",
       "  <tbody>\n",
       "    <tr>\n",
       "      <th>Friday</th>\n",
       "      <td>11.052528</td>\n",
       "    </tr>\n",
       "    <tr>\n",
       "      <th>Monday</th>\n",
       "      <td>11.005038</td>\n",
       "    </tr>\n",
       "    <tr>\n",
       "      <th>Saturday</th>\n",
       "      <td>10.436042</td>\n",
       "    </tr>\n",
       "    <tr>\n",
       "      <th>Sunday</th>\n",
       "      <td>10.553763</td>\n",
       "    </tr>\n",
       "    <tr>\n",
       "      <th>Thursday</th>\n",
       "      <td>11.323882</td>\n",
       "    </tr>\n",
       "    <tr>\n",
       "      <th>Tuesday</th>\n",
       "      <td>11.556884</td>\n",
       "    </tr>\n",
       "    <tr>\n",
       "      <th>Wednesday</th>\n",
       "      <td>10.929117</td>\n",
       "    </tr>\n",
       "  </tbody>\n",
       "</table>\n",
       "</div>"
      ],
      "text/plain": [
       "           number_of_strikes\n",
       "weekday                     \n",
       "Friday             11.052528\n",
       "Monday             11.005038\n",
       "Saturday           10.436042\n",
       "Sunday             10.553763\n",
       "Thursday           11.323882\n",
       "Tuesday            11.556884\n",
       "Wednesday          10.929117"
      ]
     },
     "execution_count": 15,
     "metadata": {},
     "output_type": "execute_result"
    }
   ],
   "source": [
    "# Calculate the mean count of lightning strikes for each weekday.\n",
    "df[['weekday','number_of_strikes']].groupby(['weekday']).mean()"
   ]
  },
  {
   "cell_type": "code",
   "execution_count": 16,
   "metadata": {},
   "outputs": [],
   "source": [
    "# Define order of days for the plot.\n",
    "weekday_order = ['Monday','Tuesday', 'Wednesday', 'Thursday','Friday','Saturday','Sunday']"
   ]
  },
  {
   "cell_type": "code",
   "execution_count": 17,
   "metadata": {},
   "outputs": [
    {
     "data": {
      "text/plain": [
       "Text(0.5, 1.0, 'Lightning distribution per weekday (2018)')"
      ]
     },
     "execution_count": 17,
     "metadata": {},
     "output_type": "execute_result"
    },
    {
     "data": {
      "image/png": "[encoded data removed]",
      "text/plain": [
       "<Figure size 640x480 with 1 Axes>"
      ]
     },
     "metadata": {},
     "output_type": "display_data"
    }
   ],
   "source": [
    "# Create boxplots of strike counts for each day of week.\n",
    "g = sns.boxplot(data=df, \n",
    "            x='weekday',\n",
    "            y='number_of_strikes', \n",
    "            order=weekday_order, \n",
    "            showfliers=False \n",
    "            );\n",
    "g.set_title('Lightning distribution per weekday (2018)')"
   ]
  }
 ],
 "metadata": {
  "kernelspec": {
   "display_name": "Python 3",
   "language": "python",
   "name": "python3"
  },
  "language_info": {
   "codemirror_mode": {
    "name": "ipython",
    "version": 3
   },
   "file_extension": ".py",
   "mimetype": "text/x-python",
   "name": "python",
   "nbconvert_exporter": "python",
   "pygments_lexer": "ipython3",
   "version": "3.13.1"
  }
 },
 "nbformat": 4,
 "nbformat_minor": 2
}
