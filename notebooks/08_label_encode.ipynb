{
 "cells": [
  {
   "cell_type": "code",
   "execution_count": 1,
   "metadata": {},
   "outputs": [
    {
     "name": "stdout",
     "output_type": "stream",
     "text": [
      "Original Data: ['red', 'blue', 'green', 'red', 'blue']\n",
      "Encoded Data: [2 0 1 2 0]\n",
      "Categories: ['blue' 'green' 'red']\n",
      "Labels: [0 1 2]\n"
     ]
    }
   ],
   "source": [
    "from sklearn.preprocessing import LabelEncoder\n",
    "\n",
    "# Example dataset\n",
    "data = [\"red\", \"blue\", \"green\", \"red\", \"blue\"]\n",
    "\n",
    "# Initialize LabelEncoder\n",
    "label_encoder = LabelEncoder()\n",
    "\n",
    "# Fit and transform the data\n",
    "encoded_data = label_encoder.fit_transform(data)\n",
    "\n",
    "# Print results\n",
    "print(\"Original Data:\", data)\n",
    "print(\"Encoded Data:\", encoded_data)\n",
    "\n",
    "# Mapping of categories to labels\n",
    "print(\"Categories:\", label_encoder.classes_)\n",
    "print(\"Labels:\", label_encoder.transform(label_encoder.classes_))"
   ]
  }
 ],
 "metadata": {
  "kernelspec": {
   "display_name": "Python 3",
   "language": "python",
   "name": "python3"
  },
  "language_info": {
   "codemirror_mode": {
    "name": "ipython",
    "version": 3
   },
   "file_extension": ".py",
   "mimetype": "text/x-python",
   "name": "python",
   "nbconvert_exporter": "python",
   "pygments_lexer": "ipython3",
   "version": "3.13.1"
  }
 },
 "nbformat": 4,
 "nbformat_minor": 2
}
